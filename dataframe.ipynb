{
 "cells": [
  {
   "cell_type": "code",
   "execution_count": 1,
   "metadata": {},
   "outputs": [],
   "source": [
    "import pathlib\n",
    "import os\n",
    "import pandas as pd"
   ]
  },
  {
   "cell_type": "markdown",
   "metadata": {},
   "source": [
    "# Data Loading"
   ]
  },
  {
   "cell_type": "code",
   "execution_count": 2,
   "metadata": {},
   "outputs": [],
   "source": [
    "articles_path = \"/Users/a1/Desktop/News/dataset/News Articles/\"\n",
    "summaries_path = \"/Users/a1/Desktop/News/dataset/Summaries/\"\n",
    "articles_dir = pathlib.Path(articles_path)\n",
    "summaries_dir = pathlib.Path(summaries_path)"
   ]
  },
  {
   "cell_type": "code",
   "execution_count": 3,
   "metadata": {},
   "outputs": [],
   "source": [
    "articles_pathlist = list(articles_dir.iterdir())\n",
    "summaries_pathlist = list(summaries_dir.iterdir())"
   ]
  },
  {
   "cell_type": "code",
   "execution_count": 4,
   "metadata": {},
   "outputs": [],
   "source": [
    "def generate_data(folder):\n",
    "    data = []\n",
    "    count = 0\n",
    "    for file in os.listdir(folder):\n",
    "        try:\n",
    "            text = ''\n",
    "            name = file\n",
    "            myfile = open(str(folder) + '/' + file, \"r\")\n",
    "            text = myfile.read()\n",
    "            #mylist = [name, text]\n",
    "            count += 1\n",
    "            data.append(text)\n",
    "        except:\n",
    "            continue\n",
    "    print(\"Task Finished!\")\n",
    "    print(str(count) + \" text files\")\n",
    "    \n",
    "    return data, count"
   ]
  },
  {
   "cell_type": "code",
   "execution_count": 5,
   "metadata": {
    "scrolled": true
   },
   "outputs": [
    {
     "name": "stdout",
     "output_type": "stream",
     "text": [
      "Task Finished!\n",
      "386 text files\n",
      "Task Finished!\n",
      "510 text files\n",
      "Task Finished!\n",
      "510 text files\n",
      "Task Finished!\n",
      "417 text files\n",
      "Task Finished!\n",
      "401 text files\n",
      "Task Finished!\n",
      "386 text files\n",
      "Task Finished!\n",
      "510 text files\n",
      "Task Finished!\n",
      "510 text files\n",
      "Task Finished!\n",
      "417 text files\n",
      "Task Finished!\n",
      "401 text files\n"
     ]
    }
   ],
   "source": [
    "articles = []\n",
    "summaries = []\n",
    "\n",
    "for e in articles_pathlist:\n",
    "    data, count = generate_data(e)\n",
    "    articles.extend(data)\n",
    "\n",
    "for e in summaries_pathlist:\n",
    "    data, count = generate_data(e)\n",
    "    summaries.extend(data)"
   ]
  },
  {
   "cell_type": "code",
   "execution_count": 6,
   "metadata": {},
   "outputs": [
    {
     "name": "stdout",
     "output_type": "stream",
     "text": [
      "Articles # : 2224\n",
      "Summaries # : 2224\n"
     ]
    }
   ],
   "source": [
    "print('Articles # : ' + str(len(articles)))\n",
    "print('Summaries # : ' + str(len(summaries)))"
   ]
  },
  {
   "cell_type": "code",
   "execution_count": 7,
   "metadata": {
    "scrolled": true
   },
   "outputs": [
    {
     "name": "stdout",
     "output_type": "stream",
     "text": [
      "Musicians to tackle US red tape\n",
      "\n",
      "Musicians' groups are to tackle US visa regulations which are blamed for hindering British acts' chances of succeeding across the Atlantic.\n",
      "\n",
      "A singer hoping to perform in the US can expect to pay $1,300 (£680) simply for obtaining a visa. Groups including the Musicians' Union are calling for an end to the \"raw deal\" faced by British performers. US acts are not faced with comparable expense and bureaucracy when visiting the UK for promotional purposes.\n",
      "\n",
      "Nigel McCune from the Musicians' Union said British musicians are \"disadvantaged\" compared to their US counterparts. A sponsor has to make a petition on their behalf, which is a form amounting to nearly 30 pages, while musicians face tougher regulations than athletes and journalists. \"If you make a mistake on your form, you risk a five-year ban and thus the ability to further your career,\" says Mr McCune.\n",
      "\n",
      "\"The US is the world's biggest music market, which means something has to be done about the creaky bureaucracy,\" says Mr McCune. \"The current situation is preventing British acts from maintaining momentum and developing in the US,\" he added.\n",
      "\n",
      "The Musicians' Union stance is being endorsed by the Music Managers' Forum (MMF), who say British artists face \"an uphill struggle\" to succeed in the US, thanks to the tough visa requirements, which are also seen as impractical. The MMF's general secretary James Seller said: \"Imagine if you were an orchestra from the Orkneys? Every member would have to travel to London to have their visas processed.\"\n",
      "\n",
      "\"The US market is seen as the holy grail and one of the benchmarks of success, and we're still going to fight to get in there. \"It's still very important, but there are other markets like Europe, India and China,\" added Mr Seller. A Department for Media, Culture and Sport spokeswoman said: \"We're aware that people are experiencing problems, and are working with the US embassy and record industry to see what we can do about it.\" A US Embassy spokesman said: \"We are aware that entertainers require visas for time-specific visas and are doing everything we can to process those applications speedily.\" \"We are aware of the importance of cultural exchange and we will do our best to facilitate that,\" he added.\n",
      "\n"
     ]
    }
   ],
   "source": [
    "print(articles[0])"
   ]
  },
  {
   "cell_type": "code",
   "execution_count": 8,
   "metadata": {
    "scrolled": true
   },
   "outputs": [
    {
     "name": "stdout",
     "output_type": "stream",
     "text": [
      "Nigel McCune from the Musicians' Union said British musicians are \"disadvantaged\" compared to their US counterparts.A US Embassy spokesman said: \"We are aware that entertainers require visas for time-specific visas and are doing everything we can to process those applications speedily.\"The Musicians' Union stance is being endorsed by the Music Managers' Forum (MMF), who say British artists face \"an uphill struggle\" to succeed in the US, thanks to the tough visa requirements, which are also seen as impractical.Musicians' groups are to tackle US visa regulations which are blamed for hindering British acts' chances of succeeding across the Atlantic.\"The US is the world's biggest music market, which means something has to be done about the creaky bureaucracy,\" says Mr McCune.\"The current situation is preventing British acts from maintaining momentum and developing in the US,\" he added.A singer hoping to perform in the US can expect to pay $1,300 (£680) simply for obtaining a visa.\n"
     ]
    }
   ],
   "source": [
    "print(summaries[0])"
   ]
  },
  {
   "cell_type": "markdown",
   "metadata": {},
   "source": [
    "# Word Embedding"
   ]
  },
  {
   "cell_type": "code",
   "execution_count": 9,
   "metadata": {},
   "outputs": [],
   "source": [
    "import re\n",
    "import tensorflow as tf\n",
    "import tensorflow_hub as hub"
   ]
  },
  {
   "cell_type": "code",
   "execution_count": 10,
   "metadata": {},
   "outputs": [],
   "source": [
    "def preprocess_sentence(w):\n",
    "    # Replacing everything with space except (a-z, A-Z, \".\", \"?\", \"!\", \",\")\n",
    "    w = re.sub(r\"[^a-zA-Z?.!,]+\", \" \", w) \n",
    "    # Reducing spaces\n",
    "    w = re.sub(r'[\" \"]+', \" \", w)\n",
    "    # lower case\n",
    "    w = w.lower()\n",
    "    return w"
   ]
  },
  {
   "cell_type": "code",
   "execution_count": 11,
   "metadata": {},
   "outputs": [],
   "source": [
    "for i in range(len(articles)):\n",
    "    articles[i] = preprocess_sentence(articles[i])\n",
    "    \n",
    "for i in range(len(summaries)):\n",
    "    summaries[i] = preprocess_sentence(summaries[i])"
   ]
  },
  {
   "cell_type": "code",
   "execution_count": 12,
   "metadata": {},
   "outputs": [
    {
     "data": {
      "text/plain": [
       "'musicians to tackle us red tape musicians groups are to tackle us visa regulations which are blamed for hindering british acts chances of succeeding across the atlantic. a singer hoping to perform in the us can expect to pay , simply for obtaining a visa. groups including the musicians union are calling for an end to the raw deal faced by british performers. us acts are not faced with comparable expense and bureaucracy when visiting the uk for promotional purposes. nigel mccune from the musicians union said british musicians are disadvantaged compared to their us counterparts. a sponsor has to make a petition on their behalf, which is a form amounting to nearly pages, while musicians face tougher regulations than athletes and journalists. if you make a mistake on your form, you risk a five year ban and thus the ability to further your career, says mr mccune. the us is the world s biggest music market, which means something has to be done about the creaky bureaucracy, says mr mccune. the current situation is preventing british acts from maintaining momentum and developing in the us, he added. the musicians union stance is being endorsed by the music managers forum mmf , who say british artists face an uphill struggle to succeed in the us, thanks to the tough visa requirements, which are also seen as impractical. the mmf s general secretary james seller said imagine if you were an orchestra from the orkneys? every member would have to travel to london to have their visas processed. the us market is seen as the holy grail and one of the benchmarks of success, and we re still going to fight to get in there. it s still very important, but there are other markets like europe, india and china, added mr seller. a department for media, culture and sport spokeswoman said we re aware that people are experiencing problems, and are working with the us embassy and record industry to see what we can do about it. a us embassy spokesman said we are aware that entertainers require visas for time specific visas and are doing everything we can to process those applications speedily. we are aware of the importance of cultural exchange and we will do our best to facilitate that, he added. '"
      ]
     },
     "execution_count": 12,
     "metadata": {},
     "output_type": "execute_result"
    }
   ],
   "source": [
    "articles[0]"
   ]
  },
  {
   "cell_type": "code",
   "execution_count": 13,
   "metadata": {},
   "outputs": [
    {
     "data": {
      "text/plain": [
       "'nigel mccune from the musicians union said british musicians are disadvantaged compared to their us counterparts.a us embassy spokesman said we are aware that entertainers require visas for time specific visas and are doing everything we can to process those applications speedily. the musicians union stance is being endorsed by the music managers forum mmf , who say british artists face an uphill struggle to succeed in the us, thanks to the tough visa requirements, which are also seen as impractical.musicians groups are to tackle us visa regulations which are blamed for hindering british acts chances of succeeding across the atlantic. the us is the world s biggest music market, which means something has to be done about the creaky bureaucracy, says mr mccune. the current situation is preventing british acts from maintaining momentum and developing in the us, he added.a singer hoping to perform in the us can expect to pay , simply for obtaining a visa.'"
      ]
     },
     "execution_count": 13,
     "metadata": {},
     "output_type": "execute_result"
    }
   ],
   "source": [
    "summaries[0]"
   ]
  },
  {
   "cell_type": "code",
   "execution_count": 14,
   "metadata": {},
   "outputs": [],
   "source": [
    "embedding = \"https://tfhub.dev/google/nnlm-en-dim50/2\"\n",
    "embedding_layer = hub.KerasLayer(embedding, input_shape=[],\n",
    "                            dtype=tf.string, trainable=True)"
   ]
  },
  {
   "cell_type": "code",
   "execution_count": 15,
   "metadata": {},
   "outputs": [],
   "source": [
    "test_string = tf.keras.preprocessing.text.text_to_word_sequence(articles[0])"
   ]
  },
  {
   "cell_type": "code",
   "execution_count": 17,
   "metadata": {},
   "outputs": [
    {
     "data": {
      "text/plain": [
       "<tf.Tensor: shape=(382, 50), dtype=float32, numpy=\n",
       "array([[-0.03507134, -0.1407184 , -0.37220904, ..., -0.14076324,\n",
       "         0.11724411, -0.0289213 ],\n",
       "       [-0.15237664, -0.04449435, -0.15687865, ..., -0.14220126,\n",
       "         0.00566396,  0.07201091],\n",
       "       [ 0.20505026, -0.28287745, -0.15371771, ..., -0.1136821 ,\n",
       "         0.00862033, -0.03511391],\n",
       "       ...,\n",
       "       [ 0.2382042 ,  0.09645974, -0.07080524, ..., -0.10454112,\n",
       "        -0.07093117, -0.02988357],\n",
       "       [ 0.2820917 ,  0.11335222, -0.17083803, ..., -0.12419001,\n",
       "        -0.06172391, -0.11471257],\n",
       "       [ 0.03919297,  0.04013097,  0.03871897, ..., -0.14286189,\n",
       "         0.004717  ,  0.17738585]], dtype=float32)>"
      ]
     },
     "execution_count": 17,
     "metadata": {},
     "output_type": "execute_result"
    }
   ],
   "source": [
    "embedding_layer(test_string)"
   ]
  },
  {
   "cell_type": "markdown",
   "metadata": {},
   "source": [
    "# Integrating data into one dataframe"
   ]
  },
  {
   "cell_type": "code",
   "execution_count": null,
   "metadata": {},
   "outputs": [],
   "source": [
    "def match_data(data_test, data_summary, count, name):\n",
    "    print(\"Creating Dataframe\")\n",
    "    df_text = pd.DataFrame(data_test, columns=['File', 'Text'])\n",
    "    df_sum = pd.DataFrame(data_summary, columns=['File', 'Summary'])\n",
    "    \n",
    "    df_final = pd.merge(df_text, df_sum, on='File')\n",
    "    \n",
    "    df_final.to_csv(name + '.csv')\n",
    "    print(name + \".csv Saved!\")\n",
    "    \n",
    "    return df_final"
   ]
  },
  {
   "cell_type": "code",
   "execution_count": null,
   "metadata": {},
   "outputs": [],
   "source": []
  }
 ],
 "metadata": {
  "kernelspec": {
   "display_name": "Python 3",
   "language": "python",
   "name": "python3"
  },
  "language_info": {
   "codemirror_mode": {
    "name": "ipython",
    "version": 3
   },
   "file_extension": ".py",
   "mimetype": "text/x-python",
   "name": "python",
   "nbconvert_exporter": "python",
   "pygments_lexer": "ipython3",
   "version": "3.8.5"
  }
 },
 "nbformat": 4,
 "nbformat_minor": 4
}
