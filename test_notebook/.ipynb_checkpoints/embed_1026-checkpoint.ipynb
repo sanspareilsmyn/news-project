{
 "cells": [
  {
   "cell_type": "code",
   "execution_count": 1,
   "metadata": {},
   "outputs": [],
   "source": [
    "import pathlib\n",
    "import os\n",
    "import pandas as pd"
   ]
  },
  {
   "cell_type": "markdown",
   "metadata": {},
   "source": [
    "# Data Loading"
   ]
  },
  {
   "cell_type": "code",
   "execution_count": 2,
   "metadata": {},
   "outputs": [],
   "source": [
    "articles_path = \"/Users/a1/Desktop/News/dataset/News Articles/\"\n",
    "summaries_path = \"/Users/a1/Desktop/News/dataset/Summaries/\"\n",
    "articles_dir = pathlib.Path(articles_path)\n",
    "summaries_dir = pathlib.Path(summaries_path)"
   ]
  },
  {
   "cell_type": "code",
   "execution_count": 3,
   "metadata": {},
   "outputs": [],
   "source": [
    "articles_pathlist = list(articles_dir.iterdir())\n",
    "summaries_pathlist = list(summaries_dir.iterdir())"
   ]
  },
  {
   "cell_type": "code",
   "execution_count": 4,
   "metadata": {},
   "outputs": [],
   "source": [
    "def generate_data(folder):\n",
    "    data = []\n",
    "    count = 0\n",
    "    for file in os.listdir(folder):\n",
    "        try:\n",
    "            text = ''\n",
    "            name = file\n",
    "            myfile = open(str(folder) + '/' + file, \"r\")\n",
    "            text = myfile.read()\n",
    "            #mylist = [name, text]\n",
    "            count += 1\n",
    "            data.append(text)\n",
    "        except:\n",
    "            continue\n",
    "    print(\"Task Finished!\")\n",
    "    print(str(count) + \" text files\")\n",
    "    \n",
    "    return data, count"
   ]
  },
  {
   "cell_type": "code",
   "execution_count": 5,
   "metadata": {
    "scrolled": true
   },
   "outputs": [
    {
     "name": "stdout",
     "output_type": "stream",
     "text": [
      "Task Finished!\n",
      "386 text files\n",
      "Task Finished!\n",
      "510 text files\n",
      "Task Finished!\n",
      "510 text files\n",
      "Task Finished!\n",
      "417 text files\n",
      "Task Finished!\n",
      "401 text files\n",
      "Task Finished!\n",
      "386 text files\n",
      "Task Finished!\n",
      "510 text files\n",
      "Task Finished!\n",
      "510 text files\n",
      "Task Finished!\n",
      "417 text files\n",
      "Task Finished!\n",
      "401 text files\n"
     ]
    }
   ],
   "source": [
    "articles = []\n",
    "summaries = []\n",
    "\n",
    "for e in articles_pathlist:\n",
    "    data, count = generate_data(e)\n",
    "    articles.extend(data)\n",
    "\n",
    "for e in summaries_pathlist:\n",
    "    data, count = generate_data(e)\n",
    "    summaries.extend(data)"
   ]
  },
  {
   "cell_type": "code",
   "execution_count": 6,
   "metadata": {},
   "outputs": [
    {
     "name": "stdout",
     "output_type": "stream",
     "text": [
      "Articles # : 2224\n",
      "Summaries # : 2224\n"
     ]
    }
   ],
   "source": [
    "print('Articles # : ' + str(len(articles)))\n",
    "print('Summaries # : ' + str(len(summaries)))"
   ]
  },
  {
   "cell_type": "markdown",
   "metadata": {},
   "source": [
    "# Word Embedding"
   ]
  },
  {
   "cell_type": "code",
   "execution_count": 9,
   "metadata": {},
   "outputs": [],
   "source": [
    "import re\n",
    "import tensorflow as tf\n",
    "import tensorflow_hub as hub"
   ]
  },
  {
   "cell_type": "code",
   "execution_count": 10,
   "metadata": {},
   "outputs": [],
   "source": [
    "def preprocess_sentence(w):\n",
    "    # Replacing everything with space except (a-z, A-Z, \".\", \"?\", \"!\", \",\")\n",
    "    w = re.sub(r\"[^a-zA-Z?.!,]+\", \" \", w) \n",
    "    # Reducing spaces\n",
    "    w = re.sub(r'[\" \"]+', \" \", w)\n",
    "    # lower case\n",
    "    w = w.lower()\n",
    "    return w"
   ]
  },
  {
   "cell_type": "code",
   "execution_count": 11,
   "metadata": {},
   "outputs": [],
   "source": [
    "for i in range(len(articles)):\n",
    "    articles[i] = preprocess_sentence(articles[i])\n",
    "    \n",
    "for i in range(len(summaries)):\n",
    "    summaries[i] = preprocess_sentence(summaries[i])"
   ]
  },
  {
   "cell_type": "code",
   "execution_count": 12,
   "metadata": {},
   "outputs": [
    {
     "data": {
      "text/plain": [
       "2224"
      ]
     },
     "execution_count": 12,
     "metadata": {},
     "output_type": "execute_result"
    }
   ],
   "source": [
    "len(articles)\n",
    "len(summaries)"
   ]
  },
  {
   "cell_type": "code",
   "execution_count": 46,
   "metadata": {},
   "outputs": [],
   "source": [
    "import pandas as pd\n",
    "articles = pd.DataFrame(articles)\n",
    "summaries = pd.DataFrame(summaries)\n",
    "data = pd.concat([articles, summaries], axis=1)"
   ]
  },
  {
   "cell_type": "code",
   "execution_count": 48,
   "metadata": {},
   "outputs": [],
   "source": [
    "data.columns = ['articles', 'summaries']"
   ]
  },
  {
   "cell_type": "code",
   "execution_count": 49,
   "metadata": {},
   "outputs": [
    {
     "data": {
      "text/html": [
       "<div>\n",
       "<style scoped>\n",
       "    .dataframe tbody tr th:only-of-type {\n",
       "        vertical-align: middle;\n",
       "    }\n",
       "\n",
       "    .dataframe tbody tr th {\n",
       "        vertical-align: top;\n",
       "    }\n",
       "\n",
       "    .dataframe thead th {\n",
       "        text-align: right;\n",
       "    }\n",
       "</style>\n",
       "<table border=\"1\" class=\"dataframe\">\n",
       "  <thead>\n",
       "    <tr style=\"text-align: right;\">\n",
       "      <th></th>\n",
       "      <th>articles</th>\n",
       "      <th>summaries</th>\n",
       "    </tr>\n",
       "  </thead>\n",
       "  <tbody>\n",
       "    <tr>\n",
       "      <th>0</th>\n",
       "      <td>musicians to tackle us red tape musicians grou...</td>\n",
       "      <td>nigel mccune from the musicians union said bri...</td>\n",
       "    </tr>\n",
       "    <tr>\n",
       "      <th>1</th>\n",
       "      <td>u s desire to be number one u , who have won t...</td>\n",
       "      <td>but they still want more.they have to want to ...</td>\n",
       "    </tr>\n",
       "    <tr>\n",
       "      <th>2</th>\n",
       "      <td>rocker doherty in on stage fight rock singer p...</td>\n",
       "      <td>babyshambles, which he formed after his acrimo...</td>\n",
       "    </tr>\n",
       "    <tr>\n",
       "      <th>3</th>\n",
       "      <td>snicket tops us box office chart the film adap...</td>\n",
       "      <td>a series of unfortunate events also stars scot...</td>\n",
       "    </tr>\n",
       "    <tr>\n",
       "      <th>4</th>\n",
       "      <td>ocean s twelve raids box office ocean s twelve...</td>\n",
       "      <td>ocean s twelve, the crime caper sequel starrin...</td>\n",
       "    </tr>\n",
       "  </tbody>\n",
       "</table>\n",
       "</div>"
      ],
      "text/plain": [
       "                                            articles  \\\n",
       "0  musicians to tackle us red tape musicians grou...   \n",
       "1  u s desire to be number one u , who have won t...   \n",
       "2  rocker doherty in on stage fight rock singer p...   \n",
       "3  snicket tops us box office chart the film adap...   \n",
       "4  ocean s twelve raids box office ocean s twelve...   \n",
       "\n",
       "                                           summaries  \n",
       "0  nigel mccune from the musicians union said bri...  \n",
       "1  but they still want more.they have to want to ...  \n",
       "2  babyshambles, which he formed after his acrimo...  \n",
       "3  a series of unfortunate events also stars scot...  \n",
       "4  ocean s twelve, the crime caper sequel starrin...  "
      ]
     },
     "execution_count": 49,
     "metadata": {},
     "output_type": "execute_result"
    }
   ],
   "source": [
    "data[:5]"
   ]
  },
  {
   "cell_type": "code",
   "execution_count": null,
   "metadata": {},
   "outputs": [],
   "source": []
  }
 ],
 "metadata": {
  "kernelspec": {
   "display_name": "Python 3",
   "language": "python",
   "name": "python3"
  },
  "language_info": {
   "codemirror_mode": {
    "name": "ipython",
    "version": 3
   },
   "file_extension": ".py",
   "mimetype": "text/x-python",
   "name": "python",
   "nbconvert_exporter": "python",
   "pygments_lexer": "ipython3",
   "version": "3.8.5"
  }
 },
 "nbformat": 4,
 "nbformat_minor": 4
}
